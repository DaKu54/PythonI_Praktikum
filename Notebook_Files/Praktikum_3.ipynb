{
 "cells": [
  {
   "cell_type": "markdown",
   "metadata": {
    "slideshow": {
     "slide_type": "slide"
    }
   },
   "source": [
    "# Vorlesung Programmieren I (mit Python) \n",
    "\n",
    "## 3. Praktikum (Ausgabedatum: 08.11.2021)\n",
    "\n",
    "**Abgabe**\n",
    "\n",
    " - KI, Gruppe 1: (Busse), dienstags, 14:30 - 17:40, ungerade Wochen, Raum K0 16 \n",
    " - KI, Gruppe 2: (Busse), dienstags, 14:30 - 17:40, gerade Wochen, Raum K0 16 \n",
    " - WIF, Gruppe 2: (Lehner), dienstags, 14:30 - 17:40, gerade Wochen, Raum K0 10 \n",
    " - WIF, Gruppe 3: (Franzke), mittwochs, 10:30 - 14:20, gerade Wochen, Raum K0 16  \n",
    " - WIF, Gruppe 4: (Hilpoltsteiner), dienstags, 08:45 - 12:00, gerade Wochen, Raum K0 16\n",
    "\n",
    "**Wintersemester 2020/2021**  "
   ]
  },
  {
   "cell_type": "markdown",
   "metadata": {
    "slideshow": {
     "slide_type": "slide"
    }
   },
   "source": [
    "# Aufgaben\n",
    "\n",
    "\n",
    " - [Aufgabe 1](#Aufgabe1): Strings zentrieren.\n",
    " - [Aufgabe 2](#Aufgabe2): Gutes Passwort.\n",
    " - [Aufgabe 3](#Aufgabe3): GGT rekursiv - Euclids Algorithmus.\n",
    " - [Aufgabe 4](#Aufgabe4): Versteckte Palindrome.\n",
    " - [Bonusaufgabe 5](#Aufgabe5): Permutationen."
   ]
  },
  {
   "cell_type": "markdown",
   "metadata": {},
   "source": [
    "# Hinweise zum Praktikum\n",
    "\n",
    " - Sie dürfen die Aufgaben **alleine** oder zu **zweit** bearbeiten und abgeben\n",
    " - Sie dürfen die Aufgaben selbstverständlich auch mit ihren Kommilitonen diskutieren und Ideen austauschen\n",
    "     - es ist aber nicht erwünscht, dass Code bzw. Ihre Lösung kopiert oder weitergegeben wird\n",
    "     - Programmieren ist wie Radfahren: Sie lernen es nicht vom Zuschauen sondern nur indem Sie es selbst tun\n",
    " - Ihre Lösungen müssen Sie **persönlich** in der Ihnen zugewiesenen Gruppe vorzeigen, d.h. die Lösungen können nicht per E-Mail vorgelegt werden\n",
    " - die Praktikumsaufgaben sollten bis zum Ende der jeweiligen Übungsstunde fertig bearbeitet und abgegeben sein\n",
    " - Sie müssen **5 der 6** Praktika bestehen \n",
    " - **Kommentieren** Sie Ihren Code \n",
    "     - **Nicht kommentierter** Code kann zum **Nichtbestehen** führen\n",
    "     \n",
    "<div class=\"alert alert-block alert-danger\">\n",
    "<b>Wichtig:</b> Sie sind einer bestimmten <b>Praktikumsgruppe</b> zugewiesen. Ihre Abgaben werden nur in dieser Gruppe akzeptiert. Beachten Sie hierzu die Hinweise auf der <b>Moodle-Kursseite</b>.\n",
    "</div>"
   ]
  },
  {
   "cell_type": "markdown",
   "metadata": {},
   "source": [
    "# Lernziele\n",
    "\n",
    " - Implementierung und Aufruf eigener Funktionen\n",
    " - Übergabe eines oder mehrerer Parameter an Funktionen \n",
    " - eine und mehrere `return`-Anweisungen\n",
    " - Rückgabe von einem oder mehreren Rückgabewerten\n",
    " - Verschachtelte `for`-Schleifen\n",
    " - `while`-Schleifen\n",
    " - direkte Rekursion\n",
    " - Umgang mit dem Slice-Operator für sequentielle Datentypen"
   ]
  },
  {
   "cell_type": "markdown",
   "metadata": {},
   "source": [
    "# Aufgabe 1 - Strings zentrieren.  <a id='Aufgabe1'></a>\n",
    "\n",
    "Implementieren Sie eine Funktion `center`, die als Input einen String und eine Breitenangabe (als int) in Zeichen als Parameter entgegennimmt. Die Funktion soll einen String zurückgeben, der aus dem Original-String mit vorangestellten Leerzeichen besteht, so dass dieser zentriert innerhalb der Breitenangabe ausgegeben wird. \n",
    "\n",
    "Wenn die Breitenangabe kürzer ist als der eingegebene String, dann soll der Eingabestring selbst ausgegeben werden. Fügen Sie keine Leerzeichen nach dem Eingabestring ein.    "
   ]
  },
  {
   "cell_type": "code",
   "execution_count": 2,
   "metadata": {},
   "outputs": [],
   "source": [
    "# Lösen Aufgabe 1 in dieser Zelle\n",
    "\n",
    "def center(zeichenkette, abstand):\n",
    "    zentriert = zeichenkette.center(abstand).rstrip()\n",
    "\n",
    "    return zentriert"
   ]
  },
  {
   "cell_type": "markdown",
   "metadata": {},
   "source": [
    "<div class=\"alert alert-block alert-danger\">\n",
    "Wenn Sie in der Codezelle unter diesem Hinweis irgendwelche Modifikationen vornehmen, wird Ihnen Aufgabe 1 <b>nicht</b> abgenommen.\n",
    "</div>"
   ]
  },
  {
   "cell_type": "code",
   "execution_count": 3,
   "metadata": {},
   "outputs": [
    {
     "name": "stdout",
     "output_type": "stream",
     "text": [
      "            Python\n",
      "                                 Hello, World!\n",
      "WIF160 - Programmieren I\n"
     ]
    }
   ],
   "source": [
    "# Führen Sie diese Zelle aus, um Ihre Funktion zu testen.\n",
    "# Wenn das Ausführen dieser Zelle zu Fehlern führt, dann ist Ihre Implementierung vermutlich nicht korrekt. \n",
    "\n",
    "assert center(\"Python\", 30) == \"            Python\"\n",
    "assert center(\"Hello, World!\", 80) == \"                                 Hello, World!\"\n",
    "assert center(\"WIF160 - Programmieren I\", 10) == \"WIF160 - Programmieren I\"\n",
    "print(center(\"Python\", 30))\n",
    "print(center(\"Hello, World!\", 80))\n",
    "print(center(\"WIF160 - Programmieren I\", 10))"
   ]
  },
  {
   "cell_type": "markdown",
   "metadata": {},
   "source": [
    "# Aufgabe 2 - Gutes Passwort. <a id='Aufgabe2'></a>\n",
    "\n",
    "Implementieren Sie eine Funktion `check_password`, die feststellt, ob ein Passwort gut ist oder nicht. Wir definieren ein gutes Passwort als eines, das mindestens 8 Zeichen lang ist und mindestens einen Großbuchstaben, mindestens einen Kleinbuchstaben und mindestens eine Zahl enthält. Ihre Funktion sollte `True` zurückgeben, wenn das Passwort, das ihr als einziger Parameter übergeben wird, gut ist. Andernfalls sollte sie `False` zurückgeben. \n",
    "\n",
    "Beispieloutput:\n",
    "\n",
    "```python\n",
    "check_password(\"sadfklhas\")\n",
    "False\n",
    "\n",
    "check_password(\"SadfhOPa5\")\n",
    "True\n",
    "```"
   ]
  },
  {
   "cell_type": "code",
   "execution_count": 8,
   "metadata": {},
   "outputs": [],
   "source": [
    "# Lösen Sie Aufgabe 2 in dieser Zelle\n",
    "import re\n",
    "\n",
    "rexes = ('[A-Z]', '[a-z]', '[0-9]')\n",
    "\n",
    "boolcheck = False\n",
    "\n",
    "def check_password(password):\n",
    "    if (len(password) >= 8 and all(re.search(r, password) for r in rexes)):\n",
    "        boolcheck = True\n",
    "        return boolcheck\n",
    "    else:\n",
    "        boolcheck = False\n",
    "        return boolcheck"
   ]
  },
  {
   "cell_type": "markdown",
   "metadata": {},
   "source": [
    "<div class=\"alert alert-block alert-danger\">\n",
    "Wenn Sie in der Codezelle unter diesem Hinweis irgendwelche Modifikationen vornehmen, wird Ihnen Aufgabe 2 <b>nicht</b> abgenommen.\n",
    "</div>"
   ]
  },
  {
   "cell_type": "code",
   "execution_count": 16,
   "metadata": {},
   "outputs": [],
   "source": [
    "# Führen Sie diese Zelle aus, um Ihre Funktion zu testen.\n",
    "# Wenn das Ausführen dieser Zelle zu Fehlern führt, dann ist Ihre Implementierung vermutlich nicht korrekt. \n",
    "\n",
    "assert check_password(\"sadfklhas\") == False\n",
    "assert check_password(\"sadfklha8\") == False\n",
    "assert check_password(\"Sadfha5\") == False\n",
    "assert check_password(\"SadfhOPa5\") == True\n",
    "assert check_password(\"LDasfvls dsflh5\") == True"
   ]
  },
  {
   "cell_type": "markdown",
   "metadata": {},
   "source": [
    "# Aufgabe 3 - GGT rekursiv - Euclids Algorithmus.  <a id='Aufgabe3'></a>\n",
    "\n",
    "Implementieren Sie eine **rekursive** Funktion `ggt`, die zwei positive Integer (`m` und `n`) als Input entgegennimmt und den größten gemeinsamen Teiler dieser beiden Zahlen zurückgibt. Nutzen Sie für die Bestimmung des GGT Euclids Algorithmus, gegeben als\n",
    "\n",
    "        Wenn m gleich 0 ist, dann\n",
    "            Gebe n zurück\n",
    "        Sonst \n",
    "            Setze p gleich dem Rest, der beim Teilen von n durch m entsteht\n",
    "            Gebe den GGT von p und m zurück\n",
    "            \n",
    "\n",
    "_Beispieloutput_:\n",
    "\n",
    "```python\n",
    "ggt(1112, 2234)\n",
    "2\n",
    "\n",
    "ggt(15, 12)\n",
    "3\n",
    "```"
   ]
  },
  {
   "cell_type": "code",
   "execution_count": 1,
   "metadata": {},
   "outputs": [],
   "source": [
    "# Lösen Sie Aufgabe 3 in dieser Zelle\n",
    "def ggt(m,n):\n",
    "    if(m==0):\n",
    "        return n\n",
    "    else:\n",
    "        p=n%m\n",
    "        return ggt(p, m)"
   ]
  },
  {
   "cell_type": "markdown",
   "metadata": {},
   "source": [
    "<div class=\"alert alert-block alert-danger\">\n",
    "Wenn Sie in der Codezelle unter diesem Hinweis irgendwelche Modifikationen vornehmen, wird Ihnen Aufgabe 3 <b>nicht</b> abgenommen.\n",
    "</div>"
   ]
  },
  {
   "cell_type": "code",
   "execution_count": 3,
   "metadata": {},
   "outputs": [],
   "source": [
    "# Führen Sie diese Zelle aus, um Ihre Funktion zu testen.\n",
    "# Wenn das Ausführen dieser Zelle zu Fehlern führt, dann ist Ihre Implementierung vermutlich nicht korrekt. \n",
    "\n",
    "assert ggt(15, 12) == 3\n",
    "assert ggt(436, 512) == 4\n",
    "assert ggt(1112, 2234) == 2"
   ]
  },
  {
   "cell_type": "markdown",
   "metadata": {},
   "source": [
    "# Aufgabe 4 -  Versteckte Palindrome. <a id='Aufgabe4'></a>\n",
    "\n",
    "Irgendjemand hat Strings in Listen konvertiert und dabei sind leider auch noch an zufälligen Stellen Zahlen (int und float) zwischen die Zeichen des zugrundeliegenden Strings gerutscht. Aus dem String `Python` ist also beispielsweise die Liste \n",
    "```python\n",
    "    ['P', 3, 'y', 't', 0.0, 'h', 1, 1, 1.0, 'o', 'n' ]\n",
    "``` \n",
    "geworden. Implementieren Sie eine Funktion `cleaner`, die die Zahlen aus dieser Liste enfernt und die bereinigte Liste zurückgibt. Dabei soll die ursprüngliche Liste nicht modifiziert werden. \n",
    "\n",
    "\n",
    "Verwenden Sie dann die Funktion `cleaner`, um die Funktion `palindrome` zu implementieren. Diese soll als Input eine noch nicht bereinigte Liste entgegennehmen und das in der Liste versteckte Wort darauf prüfen, ob es sich bei dem  Wort um ein [Palindrom](https://de.wikipedia.org/wiki/Palindrom) handelt oder nicht. Wenn das Wort ein Palindrom ist, dann soll die Funktion `palindrome` das ursprüngliche Wort und `True` als 2-Tupel zurückgeben, ansonsten das ursprüngliche Wort und `False`. Wir beschränken uns hier auf Wortpalindrome. Sie müssen Satzpalindrome nicht betrachten / berücksichtigen. \n",
    "\n",
    "_Beispieloutput_:\n",
    "\n",
    "```python\n",
    "palindrome(['P', 3, 'y', 't', 0.0, 'h', 1, 1, 1.0, 'o', 'n' ])\n",
    "('Python', False)\n",
    "\n",
    "palindrome(['A', 6, 8.3, 'n', 5, 'n', 'a'])\n",
    "('Anna', True)\n",
    "```"
   ]
  },
  {
   "cell_type": "code",
   "execution_count": 1,
   "metadata": {},
   "outputs": [],
   "source": [
    "# Lösen Sie Aufgabe 4 in dieser Zelle\n",
    "def cleaner(zu_reinigen):\n",
    "\n",
    "    gereinigte_liste = []\n",
    "    laenge = len(zu_reinigen)\n",
    "\n",
    "    for i in range(0, laenge):\n",
    "        if isinstance(zu_reinigen[i], str):\n",
    "            gereinigte_liste.append(zu_reinigen[i].lower())\n",
    "\n",
    "    return gereinigte_liste\n",
    "\n",
    "def palindrome(liste):\n",
    "\n",
    "    gereinigt = cleaner(liste)\n",
    "\n",
    "    umgedreht = list(reversed(gereinigt))\n",
    "    wort = ''.join(gereinigt)\n",
    "\n",
    "    return (wort.capitalize(), umgedreht==gereinigt)"
   ]
  },
  {
   "cell_type": "markdown",
   "metadata": {},
   "source": [
    "<div class=\"alert alert-block alert-danger\">\n",
    "Wenn Sie in der Codezelle unter diesem Hinweis irgendwelche Modifikationen vornehmen, wird Ihnen Aufgabe 4 <b>nicht</b> abgenommen.\n",
    "</div>"
   ]
  },
  {
   "cell_type": "code",
   "execution_count": 2,
   "metadata": {},
   "outputs": [],
   "source": [
    "# Führen Sie diese Zelle aus, um Ihre Funktion zu testen.\n",
    "# Wenn das Ausführen dieser Zelle zu Fehlern führt, dann ist Ihre Implementierung vermutlich nicht korrekt.\n",
    "\n",
    "L1 = ['P', 3, 'y', 't', 0.0, 'h', 1, 1, 1.0, 'o', 'n' ]\n",
    "L2 = ['A', 6, 8.3, 'n', 5, 'n', 'a']\n",
    "L3 = ['P', 'y', 't', 'h', 'o', 'n']\n",
    "\n",
    "assert palindrome(L1) == ('Python', False)\n",
    "assert palindrome(L2) == ('Anna', True)\n",
    "assert palindrome(L1) == palindrome(L3)\n",
    "assert L1 == ['P', 3, 'y', 't', 0.0, 'h', 1, 1, 1.0, 'o', 'n' ]\n",
    "assert L2 == ['A', 6, 8.3, 'n', 5, 'n', 'a']"
   ]
  },
  {
   "cell_type": "markdown",
   "metadata": {},
   "source": [
    "# Bonusaufgabe 5 (etwas schwieriger) -  Permutationen. <a id='Aufgabe5'></a>\n",
    "\n",
    "<div class=\"alert alert-block alert-danger\">\n",
    "<b>Wichtig:</b> Diese Aufgabe muss nicht bearbeitet werden, um den Leistungsnachweis für dieses Aufgabenblatt zu erreichen. Sie ist optional. </b>\n",
    "</div>\n",
    "\n",
    "Implementieren Sie eine rekursive Funktion `permute`, die alle [Permutationen](https://de.wikipedia.org/wiki/Permutation) der Elemente eines sequentiellen Datentyps (Slice-Operator wird unterstützt) bestimmt und als Elemente einer Liste ausgibt. \n",
    "\n",
    "_Beispieloutput_:\n",
    "\n",
    "```python\n",
    "permute(\"abc\")\n",
    "['abc', 'acb', 'bac', 'bca', 'cab', 'cba']\n",
    "```\n"
   ]
  },
  {
   "cell_type": "code",
   "execution_count": null,
   "metadata": {},
   "outputs": [],
   "source": [
    "# Lösen Sie Aufgabe 5 in dieser Zelle\n"
   ]
  },
  {
   "cell_type": "markdown",
   "metadata": {},
   "source": [
    "<div class=\"alert alert-block alert-danger\">\n",
    "Wenn Sie in der Codezelle unter diesem Hinweis irgendwelche Modifikationen vornehmen, wird Ihnen Aufgabe 5 <b>nicht</b> abgenommen.\n",
    "</div>"
   ]
  },
  {
   "cell_type": "code",
   "execution_count": null,
   "metadata": {},
   "outputs": [],
   "source": [
    "# Führen Sie diese Zelle aus, um Ihre Funktion zu testen.\n",
    "# Wenn das Ausführen dieser Zelle zu Fehlern führt, dann ist Ihre Implementierung vermutlich nicht korrekt. \n",
    "\n",
    "assert sorted(permute(\"abc\")) == sorted(['abc', 'acb', 'bac', 'bca', 'cab', 'cba'])\n",
    "assert sorted(permute(\"ab\")) == sorted(['ab', 'ba'])\n",
    "assert sorted(permute([1, 2])) == sorted([[1, 2], [2, 1]])\n",
    "assert sorted(permute((1, 2, 3))) == sorted([(1, 2, 3), (1, 3, 2), (2, 1, 3), (2, 3, 1), (3, 1, 2), (3, 2, 1)])"
   ]
  }
 ],
 "metadata": {
  "kernelspec": {
   "display_name": "Python 3",
   "language": "python",
   "name": "python3"
  },
  "language_info": {
   "codemirror_mode": {
    "name": "ipython",
    "version": 3
   },
   "file_extension": ".py",
   "mimetype": "text/x-python",
   "name": "python",
   "nbconvert_exporter": "python",
   "pygments_lexer": "ipython3",
   "version": "3.8.8"
  }
 },
 "nbformat": 4,
 "nbformat_minor": 4
}
