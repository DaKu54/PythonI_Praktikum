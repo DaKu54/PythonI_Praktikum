{
 "cells": [
  {
   "cell_type": "markdown",
   "metadata": {
    "slideshow": {
     "slide_type": "slide"
    }
   },
   "source": [
    "# Vorlesung Programmieren I (mit Python)\n",
    "\n",
    "## 2. Praktikum (Ausgabedatum: 25.10.2021)\n",
    "\n",
    "**Abgabe**\n",
    "\n",
    " - KI, Gruppe 1: (Busse), dienstags, 14:30 - 17:40, ungerade Wochen, Raum K0 16 \n",
    " - KI, Gruppe 2: (Busse), dienstags, 14:30 - 17:40, gerade Wochen, Raum K0 16 \n",
    " - WIF, Gruppe 2: (Lehner), dienstags, 14:30 - 17:40, gerade Wochen, Raum K0 10 \n",
    " - WIF, Gruppe 3: (Franzke), mittwochs, 10:30 - 14:20, gerade Wochen, Raum K0 16  \n",
    " - WIF, Gruppe 4: (Hilpoltsteiner), dienstags, 08:45 - 12:00, gerade Wochen, Raum K0 16\n",
    "\n",
    "**Wintersemester 2021/2022**  "
   ]
  },
  {
   "cell_type": "markdown",
   "metadata": {
    "slideshow": {
     "slide_type": "slide"
    }
   },
   "source": [
    "# Aufgaben\n",
    "\n",
    "\n",
    " - [Aufgabe 1](#Aufgabe1): Summe einzigartiger Ziffern.\n",
    " - [Aufgabe 2](#Aufgabe2): Konzertbesucher. \n",
    " - [Aufgabe 3](#Aufgabe3): Anagramme.\n",
    " - [Aufgabe 4](#Aufgabe4): Zufällige Bingo Karten.\n",
    " - [Bonusaufgabe 5](#Aufgabe5): Teillisten von Listen."
   ]
  },
  {
   "cell_type": "markdown",
   "metadata": {},
   "source": [
    "# Hinweise zum Praktikum\n",
    "\n",
    " - Sie dürfen die Aufgaben **alleine** oder zu **zweit** bearbeiten und abgeben\n",
    " - Sie dürfen die Aufgaben selbstverständlich auch mit ihren Kommilitonen diskutieren und Ideen austauschen\n",
    "     - es ist aber nicht erwünscht, dass Code bzw. Ihre Lösung kopiert oder weitergegeben wird\n",
    "     - Programmieren ist wie Radfahren: Sie lernen es nicht vom Zuschauen sondern nur indem Sie es selbst tun\n",
    " - Ihre Lösungen müssen Sie **persönlich** in der Ihnen zugewiesenen Gruppe vorzeigen, d.h. die Lösungen können nicht per E-Mail vorgelegt werden\n",
    " - die Praktikumsaufgaben sollten bis zum Ende der jeweiligen Übungsstunde fertig bearbeitet und abgegeben sein\n",
    " - Sie müssen **5 der 6** Praktika bestehen \n",
    " - **Kommentieren** Sie Ihren Code \n",
    "     - **Nicht kommentierter** Code kann zum **Nichtbestehen** führen\n",
    "     \n",
    "<div class=\"alert alert-block alert-danger\">\n",
    "<b>Wichtig:</b> Sie sind einer bestimmten <b>Praktikumsgruppe</b> zugewiesen. Ihre Abgaben werden nur in dieser Gruppe akzeptiert. Beachten Sie hierzu die Hinweise auf der <b>Moodle-Kursseite</b>.\n",
    "</div>"
   ]
  },
  {
   "cell_type": "markdown",
   "metadata": {},
   "source": [
    "# Lernziele\n",
    "\n",
    " - Verwendung von Sets und Dictionaries \n",
    " - Mengenoperationen mit Sets\n",
    " - erster Umgang mit einfachen bedingten Anweisungen\n",
    " - erster Umgang mit einfachen for-Schleifen\n",
    " - Vergleichsoperatoren bei Listen\n",
    " - Teilbereichsoperatoren"
   ]
  },
  {
   "cell_type": "markdown",
   "metadata": {},
   "source": [
    "# Aufgabe 1 - Summe einzigartiger Ziffern.  <a id='Aufgabe1'></a>\n",
    "\n",
    "Entwickeln Sie ein Programm, das eine Ganzzahl (Integer) vom Benutzer einliest und die Summe der einzigartigen Ziffern dieser Zahl anzeigt. Wenn der Benutzer zum Beispiel `122344` eingibt, sollte Ihr Programm `1+2+3+4=10` anzeigen. Verwenden Sie die `input`-Funktion, um die Eingabe des Benutzers entgegenzunehmen und geben Sie das Ergebnis auf folgende Weise aus: \n",
    "\n",
    "_Eingabe Benutzer_:  \n",
    "\n",
    "`122222233444444`\n",
    "\n",
    "_(mögliche) Ausgabe Programm_:  \n",
    "\n",
    "`1+2+3+4=10`\n",
    "\n",
    "**Hinweis**: Verwenden Sie zur Lösung dieser Aufgabe ein `set` oder ein `dictionary`. Sie dürfen davon ausgehen, dass der Benutzer eine Ganzzahl eingibt. Die Reihenfolge, in der die Ziffern in der Darstellung der Summe ausgegeben werden, ist nicht relevant (beim oberen Beispiel ist also z.B. auch die Ausgabe `4+1+3+2=10` zulässig)."
   ]
  },
  {
   "cell_type": "code",
   "execution_count": null,
   "metadata": {},
   "outputs": [],
   "source": [
    "# Lösen Sie Aufgabe 1 in dieser Zelle\n",
    "number = int(input(\"Eingabe Benutzer:\"))\n",
    "number_set = set()\n",
    "total = 0\n",
    "for digit in str(number):\n",
    "    int(digit)\n",
    "\n",
    "    if digit in number_set:\n",
    "        continue\n",
    "    else:\n",
    "        number_set.add(digit)\n",
    "\n",
    "for nums in number_set:\n",
    "    total=total+int(nums)\n",
    "\n",
    "print(total)"
   ]
  },
  {
   "cell_type": "markdown",
   "metadata": {},
   "source": [
    "# Aufgabe 2 - Konzertbesucher. <a id='Aufgabe2'></a>\n",
    "\n",
    "Die Personen in den Listen `concert_A` und `concert_B` haben unterschiedliche Konzerte besucht. \n",
    "\n",
    "```python\n",
    "concert_A = [\"Anne\", \"Michael\", \"Marco\", \"Stefanie\"]\n",
    "concert_B = [\"Tobias\", \"Anne\", \"Willi\", \"Maja\", \"Frodo\", \"Stefanie\"]\n",
    "```\n",
    "\n",
    "**Teil 1**:  \n",
    "\n",
    "Schreiben Sie ein Programm, dass folgende Fragen mit Hilfe von `set`s und den dazugehörigen Mengenoperationen beantworten kann: \n",
    " - Welche Personen haben beide Konzerte besucht?\n",
    " - Waren alle Personen, die Konzert A besucht haben, auch bei Konzert B?\n",
    " - Wer war auf Konzert A, aber nicht auf Konzert B? \n",
    " - Wer war auf Konzert B, aber nicht auf Konzert A?\n",
    " - Wer hat eins der Konzerte besucht?\n",
    " \n",
    " \n",
    "Erwartete Ausgabe:\n",
    "\n",
    "Auf beiden Konzerten waren folgende Personen: `{Name A, Name X, ...}`    \n",
    "Waren alle Personen, die Konzert A besucht haben, auch bei Konzert B? `True` oder `False`     \n",
    "Konzert A, aber nicht Konzert B haben besucht: `{Name Y, Name Z, ...}`    \n",
    "Konzert B, aber nicht Konzert A haben besucht: `{Name V, Name W, ...}`   \n",
    "In einem der Konzerte waren: `{Name M, Name N, ...}`   \n",
    "\n",
    "\n",
    "**Teil 2**: \n",
    "\n",
    "Die Besucher von Konzert A (Menge $A$) und Konzert B (Menge $B$) können als Teilmengen der Menge \n",
    "\n",
    "```python\n",
    "omega = {\"Maja\", \"Willi\", \"Michael\", \"Frodo\", \"Anne\", \"Marco\", \"Stefanie\", \"Tobias\", \"John\", \"Mary\"}\n",
    "```\n",
    "\n",
    "angesehen werden. Formulieren Sie $\\overline{A \\cap B} = \\overline{A} \\cup \\overline{B}$ als boolschen Ausdruck und geben Sie das Ergebnis aus als:   \n",
    "\n",
    "`Das Ergebnis des Ausdrucks ist:` `True` oder `False` \n",
    "\n",
    "$\\overline{A}$ steht hier für das Komplement von $A$, also für $\\Omega \\setminus A$.\n"
   ]
  },
  {
   "cell_type": "code",
   "execution_count": null,
   "metadata": {},
   "outputs": [],
   "source": [
    "# Lösen Sie Teil 1 von Aufgabe 2 in dieser Zelle\n",
    "# Lösen Sie Aufgabe 1 in dieser Zelle\n",
    "concert_A = [\"Anne\", \"Michael\", \"Marco\", \"Stefanie\"]\n",
    "concert_B = [\"Tobias\", \"Anne\", \"Willi\", \"Maja\", \"Frodo\", \"Stefanie\"]\n",
    "a_besucher = \"\";\n",
    "b_besucher = \"\";\n",
    "beide_konzerte = set()\n",
    "beide_konzerte_besucht = True\n",
    "a_aber_nicht_b = set()\n",
    "b_aber_nicht_a = set()\n",
    "\n",
    "for a_besucher in concert_A:\n",
    "    for b_besucher in concert_B:\n",
    "        if a_besucher==b_besucher:\n",
    "            beide_konzerte.add(a_besucher)\n",
    "        if a_besucher in concert_B:\n",
    "            continue\n",
    "        else:\n",
    "            a_aber_nicht_b.add(a_besucher)\n",
    "            beide_konzerte_besucht = False\n",
    "\n",
    "        if b_besucher in concert_A:\n",
    "            continue\n",
    "        else:\n",
    "            b_aber_nicht_a.add(b_besucher)\n",
    "\n",
    "min_ein_konzert = a_aber_nicht_b.union(b_aber_nicht_a)\n",
    "\n",
    "print(\"Auf beiden Konzerten waren folgende Personen: \", beide_konzerte)\n",
    "print(\"Waren alle Personen, die Konzert A besucht haben, auch bei Konzert B?\", beide_konzerte_besucht)\n",
    "print(\"Konzert A, aber nicht Konzert B haben besucht:  \", a_aber_nicht_b)\n",
    "print(\"Konzert B, aber nicht Konzert A haben besucht: \", b_aber_nicht_a)\n",
    "print(\"In einem der Konzerte waren: \", min_ein_konzert)"
   ]
  },
  {
   "cell_type": "code",
   "execution_count": 13,
   "metadata": {},
   "outputs": [],
   "source": [
    "# Lösen Sie Teil 2 von Aufgabe 2 in dieser Zelle\n",
    "omega_ohne_a_und_b = [\"John\", \"Mary\"]\n",
    "komplement_a_b = [\"Tobias\", \"Willi\", \"Maja\", \"Frodo\", \"Michael\", \"Marco\"]\n",
    "\n"
   ]
  },
  {
   "cell_type": "markdown",
   "metadata": {},
   "source": [
    "# Aufgabe 3 - Anagramme.  <a id='Aufgabe3'></a>\n",
    "\n",
    "Zwei Wörter sind Anagramme, wenn sie die gleichen Buchstaben enthalten, aber in unterschiedlicher Reihenfolge. \n",
    "\n",
    "Oder, laut [Wikipedia](https://de.wikipedia.org/wiki/Anagramm): Als Anagramm wird eine Buchstabenfolge bezeichnet, die aus einer anderen Buchstabenfolge allein durch Umstellung (Permutation) der Buchstaben gebildet ist. Der Vorgang dieser Umstellung wird als Anagrammieren, in der Kryptographie auch als Transposition bezeichnet. \n",
    "\n",
    "Schreiben Sie ein Programm, dass vom Benutzer nacheinander zwei einzelne Wörter als Eingabe entgegennimmt und dann bestimmt, ob die beiden Wörter Anagramme sind oder nicht. Wir vernachlässigen hierbei die Groß- und Kleinschreibung und werten z.B. auch die Wörter \"Ampel\" und \"Palme\" als Anagramme. Die Ausgabe sollte diesen Beispielen entsprechen:\n",
    "\n",
    "**Beispiel 1**:\n",
    "\n",
    "_Eingabe Benutzer_: \n",
    "\n",
    "String1: `Ampel`    \n",
    "String2: `Palme`\n",
    "\n",
    "_Ausgabe Programm_:   \n",
    "\n",
    "`Ampel und Palme sind Anagramme.` \n",
    "\n",
    "**Beispiel 2**:\n",
    "\n",
    "_Eingabe Benutzer_: \n",
    "\n",
    "String1: `Hallo`    \n",
    "String2: `Welt`\n",
    "\n",
    "_Ausgabe Programm_:   \n",
    "\n",
    "`Hallo und Welt sind keine Anagramme.`\n",
    "\n",
    "**Hinweis**: Sie dürfen die Funktion `sorted` verwenden."
   ]
  },
  {
   "cell_type": "code",
   "execution_count": null,
   "metadata": {},
   "outputs": [],
   "source": [
    "# Führen Sie diese Zelle aus, um den 'Docstring' der sorted Funktion zu sehen\n",
    "?sorted"
   ]
  },
  {
   "cell_type": "code",
   "execution_count": null,
   "metadata": {},
   "outputs": [],
   "source": [
    "# Lösen Sie Aufgabe 3 in dieser Zelle\n",
    "s1=input(\"String1: \")\n",
    "s2=input(\"String2: \")\n",
    "print(\"\\n\")\n",
    "\n",
    "s1_lower = s1.lower()\n",
    "s2_lower = s2.lower()\n",
    "\n",
    "if(sorted(s1_lower)==sorted(s2_lower)):\n",
    "      print(s1 + \" und \" + s2 + \" sind Anagrame\")\n",
    "else:\n",
    "      print(s1 + \" und \" + s2 + \" sind  keine Anagrame\")"
   ]
  },
  {
   "cell_type": "markdown",
   "metadata": {},
   "source": [
    "# Aufgabe 4 - Zufällige Bingo Karten <a id='Aufgabe4'></a>\n",
    "\n",
    "Eine [Bingokarte](https://de.m.wikipedia.org/wiki/Bingo) besteht aus 5 Spalten mit 5 Zahlen. Die Spalten sind mit den Buchstaben `B`, `I`, `N`, `G` und `O` beschriftet. Unter jedem Buchstaben können 15 Zahlen erscheinen. Insbesondere sind die Zahlen, die unter dem `B` erscheinen können, aus dem Ganzzahlbereich `1` bis `15`, die Zahlen, die unter dem `I` erscheinen können, aus dem Bereich `16` bis `30`, die Zahlen, die unter dem `N` erscheinen können, aus dem Bereich `31` bis `45`, und so weiter.\n",
    "\n",
    "Entwickeln Sie ein Programm, das eine zufällige Bingokarte erstellt und in einem `dictionary` speichert. Die\n",
    "Schlüssel sind die Buchstaben `B`, `I`, `N`, `G` und `O`. Die Werte sind die Listen (`list`), welche die 5 Zahlen enthalten, die unter jedem Buchstaben stehen. Ihr Programm soll dann die generierte Bingokarte mit den entsprechend beschrifteten Spalten anzeigen. \n",
    "\n",
    "Bei jedem Aufruf Ihres Programms soll eine neue, zufällig generierte Bingo-Karte angezeigt werden. Sie sollen zur Erzeugung der Zufallszahlen die Funktion `randrange` verwenden, die Sie vorher über den Aufruf `from random import randrange` importieren müssen. Die nächste Codezelle übernimmt diesen Import für Sie und zeigt Ihnen den sogenannten `Docstring` dieser Funktion an, der Ihnen bei der Verwendung dieser Funktion helfen sollte.     \n",
    "\n",
    "Die Ausgabe einer zufällig generierten Bingo-Karte sollte so aussehen (nutzen Sie f-Strings und formatieren die Zahlen geeignet):\n",
    "```\n",
    " B  I  N  G  O\n",
    "14 24 33 51 67 \n",
    " 1 18 39 53 68 \n",
    "11 21 44 48 62 \n",
    "15 16 38 49 61 \n",
    " 5 27 43 55 71 \n",
    "```"
   ]
  },
  {
   "cell_type": "code",
   "execution_count": 2,
   "metadata": {},
   "outputs": [],
   "source": [
    "from random import randrange\n",
    "\n",
    "?randrange\n",
    "# Testen Sie in dieser Codezelle anhand einiger Beispiele die Funktionsweise dieser Funktion, \n",
    "# bevor Sie diese in der nächsten Codezelle in der Hauptlogik Ihres Programms einsetzen.\n",
    "# Führen Sie z.B. \n",
    "# randrange(1, 5) # (diese Zeile einfach auskommentieren)\n",
    "# mehrfach aus und analysieren Sie den Output. "
   ]
  },
  {
   "cell_type": "code",
   "execution_count": 14,
   "metadata": {},
   "outputs": [
    {
     "name": "stdout",
     "output_type": "stream",
     "text": [
      "B I N G O      \n",
      "13 19 37 52 65      \n",
      "0 22 36 48 61      \n",
      "13 17 33 54 57      \n",
      "3 25 40 50 65      \n",
      "5 19 32 53 64      \n"
     ]
    }
   ],
   "source": [
    "# Lösen Sie Aufgabe 4 in dieser Zelle\n",
    "from random import randrange\n",
    "\n",
    "card = {\"B\": [], \"I\": [], \"N\": [], \"G\": [], \"O\": [], }\n",
    "card_interator = 0\n",
    "\n",
    "while card_interator < 5:\n",
    "    card[\"B\"].append(randrange(0, 16, 1))\n",
    "    card_interator+=1\n",
    "\n",
    "card_interator = 0\n",
    "\n",
    "while card_interator < 5:\n",
    "    card[\"I\"].append(randrange(16, 31, 1))\n",
    "\n",
    "    card_interator+=1\n",
    "\n",
    "\n",
    "card_interator = 0\n",
    "\n",
    "while card_interator < 5:\n",
    "    card[\"N\"].append(randrange(31, 46, 1))\n",
    "    card_interator+=1\n",
    "\n",
    "card_interator = 0\n",
    "\n",
    "while card_interator < 5:\n",
    "    card[\"G\"].append(randrange(46, 56, 1))\n",
    "    card_interator+=1\n",
    "\n",
    "card_interator = 0\n",
    "\n",
    "while card_interator < 5:\n",
    "    card[\"O\"].append(randrange(56, 66, 1))\n",
    "    card_interator+=1\n",
    "\n",
    "card_iterator = 0\n",
    "\n",
    "for row in zip(*([key] + (value) for key, value in card.items())):\n",
    "    print(*row, \"     \")"
   ]
  },
  {
   "cell_type": "markdown",
   "metadata": {},
   "source": [
    "# Bonusaufgabe 5 - Teillisten von Listen. <a id='Aufgabe5'></a>\n",
    "\n",
    "<div class=\"alert alert-block alert-danger\">\n",
    "<b>Wichtig:</b> Diese Aufgabe muss nicht bearbeitet werden, um den Leistungsnachweis für dieses Aufgabenblatt zu erreichen. Sie ist optional. </b>\n",
    "</div>\n",
    "\n",
    "Eine Teilliste ist eine Liste, die einen Teil der Elemente einer größeren Liste enthält.  Eine Teilliste darf ein Element, mehrere Elemente oder gar kein Element enthalten. Eine leere Liste ist immer eine Teilliste jeder Liste. Die Liste selbst ist auch immer eine Teilliste von sich selbst. Es kommt bei den Teillisten aber auf die Reihenfolge der Elemente an. \n",
    "\n",
    "`[2, 3]` ist eine Teilliste von `l=[1, 2, 3, 4]`, aber `[1, 4]` ist keine Teilliste davon, weil die Elemente `1` und `4` nicht aufeinanderfolgen in Liste `l`. \n",
    "\n",
    "Schreiben Sie ein Programm, dass alle Teillisten einer vorgegebenen Liste bestimmen und ausgeben kann. \n",
    "\n",
    "Beispiele:\n",
    "\n",
    "```python\n",
    "l = [1, 2, 3]\n",
    "```\n",
    "\n",
    "Alle Teillisten:\n",
    "```python\n",
    "[], [1], [2], [3], [1, 2], [2, 3], [1, 2, 3]\n",
    "```"
   ]
  },
  {
   "cell_type": "code",
   "execution_count": null,
   "metadata": {},
   "outputs": [],
   "source": [
    "# Lösen Sie Aufgabe 5 in dieser Zelle und testen Sie Ihren Code mit den vorgegebenen 3 Listen \n",
    "\n",
    "l = [1, 2, 3]\n",
    "# l = [\"a\", \"b\", \"c\", \"d\"]\n",
    "# l = [[\"a\", \"b\"], [1, 2]]\n",
    "\n"
   ]
  }
 ],
 "metadata": {
  "kernelspec": {
   "display_name": "Python 3",
   "language": "python",
   "name": "python3"
  },
  "language_info": {
   "codemirror_mode": {
    "name": "ipython",
    "version": 3
   },
   "file_extension": ".py",
   "mimetype": "text/x-python",
   "name": "python",
   "nbconvert_exporter": "python",
   "pygments_lexer": "ipython3",
   "version": "3.8.8"
  }
 },
 "nbformat": 4,
 "nbformat_minor": 4
}
